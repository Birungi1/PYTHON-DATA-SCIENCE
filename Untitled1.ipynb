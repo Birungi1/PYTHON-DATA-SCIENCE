{
 "cells": [
  {
   "cell_type": "markdown",
   "id": "26fdef70",
   "metadata": {},
   "source": [
    "# python data science"
   ]
  },
  {
   "cell_type": "markdown",
   "id": "1663cf98",
   "metadata": {},
   "source": [
    "Basic python topics:"
   ]
  },
  {
   "cell_type": "markdown",
   "id": "37c62e4c",
   "metadata": {},
   "source": [
    "# variables\n"
   ]
  },
  {
   "cell_type": "markdown",
   "id": "cd4e1833",
   "metadata": {},
   "source": [
    "variable can be :"
   ]
  },
  {
   "cell_type": "markdown",
   "id": "119c32d8",
   "metadata": {},
   "source": [
    "integer, float, double, string, long"
   ]
  },
  {
   "cell_type": "code",
   "execution_count": null,
   "id": "06a845be",
   "metadata": {},
   "outputs": [],
   "source": []
  },
  {
   "cell_type": "code",
   "execution_count": 3,
   "id": "a21dcfe9",
   "metadata": {},
   "outputs": [],
   "source": [
    "a=23"
   ]
  },
  {
   "cell_type": "code",
   "execution_count": 14,
   "id": "e8339c99",
   "metadata": {},
   "outputs": [
    {
     "name": "stdout",
     "output_type": "stream",
     "text": [
      "23\n",
      "<class 'int'>\n",
      "2.4566777\n",
      "<class 'float'>\n",
      "the name of a person\n",
      "<class 'float'>\n",
      "<class 'str'>\n"
     ]
    }
   ],
   "source": [
    "print(a)\n",
    "type(a)\n",
    "print(type(a))\n",
    "b=2.4566777\n",
    "print(b)\n",
    "type(b)\n",
    "print(type(b))\n",
    "d=\"the name of a person\"\n",
    "print(d)\n",
    "type(d)\n",
    "print(type(b))\n",
    "print(type(d))"
   ]
  },
  {
   "cell_type": "markdown",
   "id": "e69965c9",
   "metadata": {},
   "source": [
    "Given two numbers v and f"
   ]
  },
  {
   "cell_type": "code",
   "execution_count": 15,
   "id": "dedf502d",
   "metadata": {},
   "outputs": [],
   "source": [
    "v=23\n",
    "f=34"
   ]
  },
  {
   "cell_type": "code",
   "execution_count": 16,
   "id": "52866a3e",
   "metadata": {},
   "outputs": [
    {
     "data": {
      "text/plain": [
       "57"
      ]
     },
     "execution_count": 16,
     "metadata": {},
     "output_type": "execute_result"
    }
   ],
   "source": [
    "v+f"
   ]
  },
  {
   "cell_type": "code",
   "execution_count": 17,
   "id": "6e12e085",
   "metadata": {},
   "outputs": [
    {
     "data": {
      "text/plain": [
       "-11"
      ]
     },
     "execution_count": 17,
     "metadata": {},
     "output_type": "execute_result"
    }
   ],
   "source": [
    "v-f"
   ]
  },
  {
   "cell_type": "code",
   "execution_count": 18,
   "id": "3cf6d5f3",
   "metadata": {},
   "outputs": [
    {
     "name": "stdout",
     "output_type": "stream",
     "text": [
      "Variable   Type     Data/Info\n",
      "-----------------------------\n",
      "a          int      23\n",
      "b          float    2.4566777\n",
      "d          str      the name of a person\n",
      "f          int      34\n",
      "v          int      23\n"
     ]
    }
   ],
   "source": [
    "%whos"
   ]
  },
  {
   "cell_type": "code",
   "execution_count": 19,
   "id": "6df29cce",
   "metadata": {},
   "outputs": [],
   "source": [
    "whos??"
   ]
  },
  {
   "cell_type": "code",
   "execution_count": 20,
   "id": "d4ce4d35",
   "metadata": {},
   "outputs": [],
   "source": [
    "a=3"
   ]
  },
  {
   "cell_type": "code",
   "execution_count": 21,
   "id": "6e4d8728",
   "metadata": {},
   "outputs": [
    {
     "name": "stdout",
     "output_type": "stream",
     "text": [
      "Variable   Type     Data/Info\n",
      "-----------------------------\n",
      "a          int      3\n",
      "b          float    2.4566777\n",
      "d          str      the name of a person\n",
      "f          int      34\n",
      "v          int      23\n"
     ]
    }
   ],
   "source": [
    "%whos"
   ]
  },
  {
   "cell_type": "markdown",
   "id": "b810eb2c",
   "metadata": {},
   "source": [
    "# OPERATORS"
   ]
  },
  {
   "cell_type": "markdown",
   "id": "90fb2edc",
   "metadata": {},
   "source": [
    "example of operators  are +, - ,//, /, *, **"
   ]
  },
  {
   "cell_type": "code",
   "execution_count": 22,
   "id": "85aad2a5",
   "metadata": {},
   "outputs": [
    {
     "data": {
      "text/plain": [
       "5.4566777"
      ]
     },
     "execution_count": 22,
     "metadata": {},
     "output_type": "execute_result"
    }
   ],
   "source": [
    "a+b"
   ]
  },
  {
   "cell_type": "code",
   "execution_count": 23,
   "id": "ed3d8b3e",
   "metadata": {},
   "outputs": [
    {
     "data": {
      "text/plain": [
       "0.5433222999999998"
      ]
     },
     "execution_count": 23,
     "metadata": {},
     "output_type": "execute_result"
    }
   ],
   "source": [
    "a-b"
   ]
  },
  {
   "cell_type": "code",
   "execution_count": 24,
   "id": "16c94193",
   "metadata": {},
   "outputs": [
    {
     "data": {
      "text/plain": [
       "1.2211614083524265"
      ]
     },
     "execution_count": 24,
     "metadata": {},
     "output_type": "execute_result"
    }
   ],
   "source": [
    "a/b"
   ]
  },
  {
   "cell_type": "code",
   "execution_count": 25,
   "id": "53ccbcec",
   "metadata": {},
   "outputs": [
    {
     "data": {
      "text/plain": [
       "1.0"
      ]
     },
     "execution_count": 25,
     "metadata": {},
     "output_type": "execute_result"
    }
   ],
   "source": [
    "a//b"
   ]
  },
  {
   "cell_type": "code",
   "execution_count": 26,
   "id": "0df11da5",
   "metadata": {},
   "outputs": [],
   "source": [
    "x=(a//b,6)"
   ]
  },
  {
   "cell_type": "code",
   "execution_count": 27,
   "id": "32cbfdb4",
   "metadata": {},
   "outputs": [
    {
     "name": "stdout",
     "output_type": "stream",
     "text": [
      "(1.0, 6)\n"
     ]
    }
   ],
   "source": [
    "print(x)"
   ]
  },
  {
   "cell_type": "code",
   "execution_count": 28,
   "id": "bd7e53f1",
   "metadata": {},
   "outputs": [
    {
     "data": {
      "text/plain": [
       "243"
      ]
     },
     "execution_count": 28,
     "metadata": {},
     "output_type": "execute_result"
    }
   ],
   "source": [
    "a**5"
   ]
  },
  {
   "cell_type": "code",
   "execution_count": null,
   "id": "004dda5f",
   "metadata": {},
   "outputs": [],
   "source": []
  }
 ],
 "metadata": {
  "kernelspec": {
   "display_name": "Python 3 (ipykernel)",
   "language": "python",
   "name": "python3"
  },
  "language_info": {
   "codemirror_mode": {
    "name": "ipython",
    "version": 3
   },
   "file_extension": ".py",
   "mimetype": "text/x-python",
   "name": "python",
   "nbconvert_exporter": "python",
   "pygments_lexer": "ipython3",
   "version": "3.8.8"
  }
 },
 "nbformat": 4,
 "nbformat_minor": 5
}
