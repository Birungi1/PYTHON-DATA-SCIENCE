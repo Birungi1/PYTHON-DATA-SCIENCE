{
 "cells": [
  {
   "cell_type": "markdown",
   "id": "477220fe",
   "metadata": {},
   "source": [
    "\n",
    "# PYTHON DATA SCIENCE"
   ]
  },
  {
   "cell_type": "markdown",
   "id": "8ba6e699",
   "metadata": {},
   "source": [
    "# variables"
   ]
  },
  {
   "cell_type": "code",
   "execution_count": 3,
   "id": "253dd979",
   "metadata": {},
   "outputs": [],
   "source": [
    "x=3"
   ]
  },
  {
   "cell_type": "code",
   "execution_count": 4,
   "id": "59d57cc8",
   "metadata": {},
   "outputs": [
    {
     "name": "stdout",
     "output_type": "stream",
     "text": [
      "Variable   Type    Data/Info\n",
      "----------------------------\n",
      "x          int     3\n"
     ]
    }
   ],
   "source": [
    "%whos"
   ]
  },
  {
   "cell_type": "code",
   "execution_count": 5,
   "id": "a7c33c63",
   "metadata": {},
   "outputs": [
    {
     "data": {
      "text/plain": [
       "int"
      ]
     },
     "execution_count": 5,
     "metadata": {},
     "output_type": "execute_result"
    }
   ],
   "source": [
    "type(x)"
   ]
  },
  {
   "cell_type": "code",
   "execution_count": 6,
   "id": "89a411c1",
   "metadata": {},
   "outputs": [
    {
     "name": "stdout",
     "output_type": "stream",
     "text": [
      "<class 'int'>\n"
     ]
    }
   ],
   "source": [
    "print(type(x))"
   ]
  },
  {
   "cell_type": "code",
   "execution_count": 7,
   "id": "2a7fc7a4",
   "metadata": {},
   "outputs": [],
   "source": [
    "x=5.7"
   ]
  },
  {
   "cell_type": "code",
   "execution_count": 8,
   "id": "1c0de5d0",
   "metadata": {},
   "outputs": [
    {
     "name": "stdout",
     "output_type": "stream",
     "text": [
      "Variable   Type     Data/Info\n",
      "-----------------------------\n",
      "x          float    5.7\n"
     ]
    }
   ],
   "source": [
    "%whos"
   ]
  },
  {
   "cell_type": "code",
   "execution_count": 9,
   "id": "7107fdab",
   "metadata": {},
   "outputs": [
    {
     "data": {
      "text/plain": [
       "float"
      ]
     },
     "execution_count": 9,
     "metadata": {},
     "output_type": "execute_result"
    }
   ],
   "source": [
    "type(x)"
   ]
  },
  {
   "cell_type": "code",
   "execution_count": 10,
   "id": "57503559",
   "metadata": {},
   "outputs": [
    {
     "name": "stdout",
     "output_type": "stream",
     "text": [
      "<class 'float'>\n"
     ]
    }
   ],
   "source": [
    "print(type(x))"
   ]
  },
  {
   "cell_type": "code",
   "execution_count": 11,
   "id": "891104a1",
   "metadata": {},
   "outputs": [],
   "source": [
    "abcd=556.32"
   ]
  },
  {
   "cell_type": "code",
   "execution_count": 12,
   "id": "a9a8aef3",
   "metadata": {},
   "outputs": [
    {
     "name": "stdout",
     "output_type": "stream",
     "text": [
      "Variable   Type     Data/Info\n",
      "-----------------------------\n",
      "abcd       float    556.32\n",
      "x          float    5.7\n"
     ]
    }
   ],
   "source": [
    "%whos"
   ]
  },
  {
   "cell_type": "code",
   "execution_count": 13,
   "id": "11ce2041",
   "metadata": {},
   "outputs": [
    {
     "data": {
      "text/plain": [
       "float"
      ]
     },
     "execution_count": 13,
     "metadata": {},
     "output_type": "execute_result"
    }
   ],
   "source": [
    "type(abcd)"
   ]
  },
  {
   "cell_type": "code",
   "execution_count": 14,
   "id": "ef8f4abd",
   "metadata": {},
   "outputs": [
    {
     "name": "stdout",
     "output_type": "stream",
     "text": [
      "<class 'float'>\n"
     ]
    }
   ],
   "source": [
    "print(type(abcd))"
   ]
  },
  {
   "cell_type": "code",
   "execution_count": 15,
   "id": "ec7f6759",
   "metadata": {},
   "outputs": [],
   "source": [
    "a,b,c,d,f=3,4,5,7.5,-8"
   ]
  },
  {
   "cell_type": "code",
   "execution_count": 16,
   "id": "bad0e372",
   "metadata": {},
   "outputs": [
    {
     "name": "stdout",
     "output_type": "stream",
     "text": [
      "Variable   Type     Data/Info\n",
      "-----------------------------\n",
      "a          int      3\n",
      "abcd       float    556.32\n",
      "b          int      4\n",
      "c          int      5\n",
      "d          float    7.5\n",
      "f          int      -8\n",
      "x          float    5.7\n"
     ]
    }
   ],
   "source": [
    "%whos"
   ]
  },
  {
   "cell_type": "code",
   "execution_count": 17,
   "id": "0982aadd",
   "metadata": {},
   "outputs": [],
   "source": [
    "del abcd"
   ]
  },
  {
   "cell_type": "code",
   "execution_count": 18,
   "id": "f8ef0d8f",
   "metadata": {},
   "outputs": [
    {
     "name": "stdout",
     "output_type": "stream",
     "text": [
      "Variable   Type     Data/Info\n",
      "-----------------------------\n",
      "a          int      3\n",
      "b          int      4\n",
      "c          int      5\n",
      "d          float    7.5\n",
      "f          int      -8\n",
      "x          float    5.7\n"
     ]
    }
   ],
   "source": [
    "%whos"
   ]
  },
  {
   "cell_type": "markdown",
   "id": "5dda75e3",
   "metadata": {},
   "source": [
    "If we want to delete a"
   ]
  },
  {
   "cell_type": "code",
   "execution_count": 20,
   "id": "510459d2",
   "metadata": {},
   "outputs": [],
   "source": [
    "del a"
   ]
  },
  {
   "cell_type": "code",
   "execution_count": 21,
   "id": "b24927e2",
   "metadata": {},
   "outputs": [
    {
     "name": "stdout",
     "output_type": "stream",
     "text": [
      "Variable   Type     Data/Info\n",
      "-----------------------------\n",
      "b          int      4\n",
      "c          int      5\n",
      "d          float    7.5\n",
      "f          int      -8\n",
      "x          float    5.7\n"
     ]
    }
   ],
   "source": [
    "%whos"
   ]
  },
  {
   "cell_type": "code",
   "execution_count": 22,
   "id": "009c7bb3",
   "metadata": {},
   "outputs": [
    {
     "data": {
      "text/plain": [
       "(2+3j)"
      ]
     },
     "execution_count": 22,
     "metadata": {},
     "output_type": "execute_result"
    }
   ],
   "source": [
    "2+3j"
   ]
  },
  {
   "cell_type": "code",
   "execution_count": 23,
   "id": "1bb6e776",
   "metadata": {},
   "outputs": [],
   "source": [
    "a=2+3j"
   ]
  },
  {
   "cell_type": "code",
   "execution_count": 24,
   "id": "0f710011",
   "metadata": {},
   "outputs": [
    {
     "name": "stdout",
     "output_type": "stream",
     "text": [
      "Variable   Type       Data/Info\n",
      "-------------------------------\n",
      "a          complex    (2+3j)\n",
      "b          int        4\n",
      "c          int        5\n",
      "d          float      7.5\n",
      "f          int        -8\n",
      "x          float      5.7\n"
     ]
    }
   ],
   "source": [
    "%whos"
   ]
  },
  {
   "cell_type": "code",
   "execution_count": 25,
   "id": "79b723da",
   "metadata": {},
   "outputs": [
    {
     "name": "stdout",
     "output_type": "stream",
     "text": [
      "<class 'complex'>\n"
     ]
    }
   ],
   "source": [
    "print(type(2+3j))"
   ]
  },
  {
   "cell_type": "code",
   "execution_count": 26,
   "id": "85d3723e",
   "metadata": {},
   "outputs": [],
   "source": [
    "w=\"hello how are you\""
   ]
  },
  {
   "cell_type": "code",
   "execution_count": 27,
   "id": "56ab7c99",
   "metadata": {},
   "outputs": [
    {
     "name": "stdout",
     "output_type": "stream",
     "text": [
      "Variable   Type       Data/Info\n",
      "-------------------------------\n",
      "a          complex    (2+3j)\n",
      "b          int        4\n",
      "c          int        5\n",
      "d          float      7.5\n",
      "f          int        -8\n",
      "w          str        hello how are you\n",
      "x          float      5.7\n"
     ]
    }
   ],
   "source": [
    "%whos"
   ]
  },
  {
   "cell_type": "code",
   "execution_count": 28,
   "id": "3185b366",
   "metadata": {},
   "outputs": [
    {
     "data": {
      "text/plain": [
       "str"
      ]
     },
     "execution_count": 28,
     "metadata": {},
     "output_type": "execute_result"
    }
   ],
   "source": [
    "type(w)"
   ]
  },
  {
   "cell_type": "code",
   "execution_count": 29,
   "id": "83ca10f0",
   "metadata": {},
   "outputs": [
    {
     "name": "stdout",
     "output_type": "stream",
     "text": [
      "<class 'str'>\n"
     ]
    }
   ],
   "source": [
    "print(type(w))"
   ]
  },
  {
   "cell_type": "code",
   "execution_count": 30,
   "id": "cb509f31",
   "metadata": {},
   "outputs": [],
   "source": [
    "s='e'"
   ]
  },
  {
   "cell_type": "code",
   "execution_count": 31,
   "id": "6849680c",
   "metadata": {},
   "outputs": [
    {
     "name": "stdout",
     "output_type": "stream",
     "text": [
      "Variable   Type       Data/Info\n",
      "-------------------------------\n",
      "a          complex    (2+3j)\n",
      "b          int        4\n",
      "c          int        5\n",
      "d          float      7.5\n",
      "f          int        -8\n",
      "s          str        e\n",
      "w          str        hello how are you\n",
      "x          float      5.7\n"
     ]
    }
   ],
   "source": [
    "%whos"
   ]
  },
  {
   "cell_type": "markdown",
   "id": "7d926b57",
   "metadata": {},
   "source": [
    "# operators and variables"
   ]
  },
  {
   "cell_type": "code",
   "execution_count": 33,
   "id": "e7141c02",
   "metadata": {},
   "outputs": [
    {
     "name": "stdout",
     "output_type": "stream",
     "text": [
      "Variable   Type       Data/Info\n",
      "-------------------------------\n",
      "a          complex    (2+3j)\n",
      "b          int        4\n",
      "c          int        5\n",
      "d          float      7.5\n",
      "f          int        -8\n",
      "s          str        e\n",
      "w          str        hello how are you\n",
      "x          float      5.7\n"
     ]
    }
   ],
   "source": [
    "%whos"
   ]
  },
  {
   "cell_type": "code",
   "execution_count": 34,
   "id": "aa79958c",
   "metadata": {},
   "outputs": [],
   "source": [
    "sumOfaAndb=a+b"
   ]
  },
  {
   "cell_type": "code",
   "execution_count": 35,
   "id": "7d341aa8",
   "metadata": {},
   "outputs": [
    {
     "name": "stdout",
     "output_type": "stream",
     "text": [
      "(6+3j)\n"
     ]
    }
   ],
   "source": [
    "print(sumOfaAndb)"
   ]
  },
  {
   "cell_type": "code",
   "execution_count": 36,
   "id": "52419313",
   "metadata": {},
   "outputs": [
    {
     "data": {
      "text/plain": [
       "complex"
      ]
     },
     "execution_count": 36,
     "metadata": {},
     "output_type": "execute_result"
    }
   ],
   "source": [
    "type(sumOfaAndb)"
   ]
  },
  {
   "cell_type": "code",
   "execution_count": 37,
   "id": "9eb5293f",
   "metadata": {},
   "outputs": [
    {
     "name": "stdout",
     "output_type": "stream",
     "text": [
      "<class 'complex'>\n"
     ]
    }
   ],
   "source": [
    "print(type(sumOfaAndb))"
   ]
  },
  {
   "cell_type": "code",
   "execution_count": 38,
   "id": "9624d385",
   "metadata": {},
   "outputs": [
    {
     "data": {
      "text/plain": [
       "float"
      ]
     },
     "execution_count": 38,
     "metadata": {},
     "output_type": "execute_result"
    }
   ],
   "source": [
    "type(b+d)"
   ]
  },
  {
   "cell_type": "code",
   "execution_count": 39,
   "id": "1b0c92af",
   "metadata": {},
   "outputs": [
    {
     "name": "stdout",
     "output_type": "stream",
     "text": [
      "<class 'float'>\n"
     ]
    }
   ],
   "source": [
    "print(type(b+d))"
   ]
  },
  {
   "cell_type": "code",
   "execution_count": 40,
   "id": "ca56ed31",
   "metadata": {},
   "outputs": [
    {
     "data": {
      "text/plain": [
       "12.5"
      ]
     },
     "execution_count": 40,
     "metadata": {},
     "output_type": "execute_result"
    }
   ],
   "source": [
    "c+d"
   ]
  },
  {
   "cell_type": "code",
   "execution_count": 41,
   "id": "7f51ae8a",
   "metadata": {},
   "outputs": [],
   "source": [
    "f=c+d"
   ]
  },
  {
   "cell_type": "code",
   "execution_count": 42,
   "id": "3b14791b",
   "metadata": {},
   "outputs": [
    {
     "data": {
      "text/plain": [
       "12.5"
      ]
     },
     "execution_count": 42,
     "metadata": {},
     "output_type": "execute_result"
    }
   ],
   "source": [
    "f"
   ]
  },
  {
   "cell_type": "code",
   "execution_count": 43,
   "id": "29acf1a1",
   "metadata": {},
   "outputs": [
    {
     "data": {
      "text/plain": [
       "float"
      ]
     },
     "execution_count": 43,
     "metadata": {},
     "output_type": "execute_result"
    }
   ],
   "source": [
    "type(f)"
   ]
  },
  {
   "cell_type": "code",
   "execution_count": 44,
   "id": "c5e88c37",
   "metadata": {},
   "outputs": [
    {
     "name": "stdout",
     "output_type": "stream",
     "text": [
      "<class 'float'>\n"
     ]
    }
   ],
   "source": [
    "print(type(f))"
   ]
  },
  {
   "cell_type": "code",
   "execution_count": 45,
   "id": "17c87174",
   "metadata": {},
   "outputs": [],
   "source": [
    "f=67"
   ]
  },
  {
   "cell_type": "code",
   "execution_count": 46,
   "id": "5d555d92",
   "metadata": {},
   "outputs": [
    {
     "name": "stdout",
     "output_type": "stream",
     "text": [
      "67\n"
     ]
    }
   ],
   "source": [
    "print(f)"
   ]
  },
  {
   "cell_type": "code",
   "execution_count": 47,
   "id": "e6551e3d",
   "metadata": {},
   "outputs": [
    {
     "data": {
      "text/plain": [
       "int"
      ]
     },
     "execution_count": 47,
     "metadata": {},
     "output_type": "execute_result"
    }
   ],
   "source": [
    "type(f)"
   ]
  },
  {
   "cell_type": "code",
   "execution_count": 48,
   "id": "ac3766c5",
   "metadata": {},
   "outputs": [
    {
     "name": "stdout",
     "output_type": "stream",
     "text": [
      "<class 'int'>\n"
     ]
    }
   ],
   "source": [
    "print(type(f))"
   ]
  },
  {
   "cell_type": "code",
   "execution_count": 52,
   "id": "10d5e73f",
   "metadata": {},
   "outputs": [],
   "source": [
    "t=((b+d)**7)"
   ]
  },
  {
   "cell_type": "code",
   "execution_count": 53,
   "id": "beec63f8",
   "metadata": {},
   "outputs": [
    {
     "name": "stdout",
     "output_type": "stream",
     "text": [
      "26600198.8046875\n"
     ]
    }
   ],
   "source": [
    "print(t)"
   ]
  },
  {
   "cell_type": "code",
   "execution_count": 54,
   "id": "f2a3e5e3",
   "metadata": {},
   "outputs": [
    {
     "data": {
      "text/plain": [
       "float"
      ]
     },
     "execution_count": 54,
     "metadata": {},
     "output_type": "execute_result"
    }
   ],
   "source": [
    "type(t)"
   ]
  },
  {
   "cell_type": "code",
   "execution_count": 55,
   "id": "d2d3db6e",
   "metadata": {},
   "outputs": [
    {
     "name": "stdout",
     "output_type": "stream",
     "text": [
      "<class 'float'>\n"
     ]
    }
   ],
   "source": [
    "print(type(t))"
   ]
  },
  {
   "cell_type": "code",
   "execution_count": 56,
   "id": "87eeea32",
   "metadata": {},
   "outputs": [],
   "source": [
    "h=60//3"
   ]
  },
  {
   "cell_type": "code",
   "execution_count": 57,
   "id": "6f73c57b",
   "metadata": {},
   "outputs": [
    {
     "name": "stdout",
     "output_type": "stream",
     "text": [
      "20\n"
     ]
    }
   ],
   "source": [
    "print(h)"
   ]
  },
  {
   "cell_type": "code",
   "execution_count": 58,
   "id": "653d65f8",
   "metadata": {},
   "outputs": [],
   "source": [
    "n=61//3"
   ]
  },
  {
   "cell_type": "code",
   "execution_count": 59,
   "id": "1f444e9f",
   "metadata": {},
   "outputs": [
    {
     "name": "stdout",
     "output_type": "stream",
     "text": [
      "20\n"
     ]
    }
   ],
   "source": [
    "print(n)"
   ]
  },
  {
   "cell_type": "code",
   "execution_count": 60,
   "id": "ab3e502a",
   "metadata": {},
   "outputs": [],
   "source": [
    "n=69//3"
   ]
  },
  {
   "cell_type": "code",
   "execution_count": 61,
   "id": "4084222c",
   "metadata": {},
   "outputs": [
    {
     "name": "stdout",
     "output_type": "stream",
     "text": [
      "23\n"
     ]
    }
   ],
   "source": [
    "print(n)"
   ]
  },
  {
   "cell_type": "code",
   "execution_count": 62,
   "id": "9d57ebeb",
   "metadata": {},
   "outputs": [],
   "source": [
    "n=70//3"
   ]
  },
  {
   "cell_type": "code",
   "execution_count": 63,
   "id": "b23aa6fc",
   "metadata": {},
   "outputs": [
    {
     "name": "stdout",
     "output_type": "stream",
     "text": [
      "23\n"
     ]
    }
   ],
   "source": [
    "print(n)"
   ]
  },
  {
   "cell_type": "code",
   "execution_count": 64,
   "id": "45dd6d11",
   "metadata": {},
   "outputs": [],
   "source": [
    "n=71//3"
   ]
  },
  {
   "cell_type": "code",
   "execution_count": 67,
   "id": "e33b6790",
   "metadata": {},
   "outputs": [
    {
     "name": "stdout",
     "output_type": "stream",
     "text": [
      "23\n"
     ]
    }
   ],
   "source": [
    "print(n)"
   ]
  },
  {
   "cell_type": "code",
   "execution_count": 68,
   "id": "4988038f",
   "metadata": {},
   "outputs": [
    {
     "name": "stdout",
     "output_type": "stream",
     "text": [
      "helloworld\n"
     ]
    }
   ],
   "source": [
    "s1=\"hello\"\n",
    "s2=\"world\"\n",
    "print(s1+s2)"
   ]
  },
  {
   "cell_type": "code",
   "execution_count": 69,
   "id": "022e0472",
   "metadata": {},
   "outputs": [],
   "source": [
    "q=10/3"
   ]
  },
  {
   "cell_type": "code",
   "execution_count": 70,
   "id": "0019464b",
   "metadata": {},
   "outputs": [
    {
     "name": "stdout",
     "output_type": "stream",
     "text": [
      "3.3333333333333335\n"
     ]
    }
   ],
   "source": [
    "print(q)"
   ]
  },
  {
   "cell_type": "code",
   "execution_count": 71,
   "id": "9434cfe7",
   "metadata": {},
   "outputs": [
    {
     "name": "stdout",
     "output_type": "stream",
     "text": [
      "3\n"
     ]
    }
   ],
   "source": [
    "e=10//3\n",
    "print(e)"
   ]
  },
  {
   "cell_type": "code",
   "execution_count": 72,
   "id": "6b87f1fa",
   "metadata": {},
   "outputs": [
    {
     "data": {
      "text/plain": [
       "3.25"
      ]
     },
     "execution_count": 72,
     "metadata": {},
     "output_type": "execute_result"
    }
   ],
   "source": [
    "13/4"
   ]
  },
  {
   "cell_type": "code",
   "execution_count": 73,
   "id": "0406fe51",
   "metadata": {},
   "outputs": [
    {
     "data": {
      "text/plain": [
       "3"
      ]
     },
     "execution_count": 73,
     "metadata": {},
     "output_type": "execute_result"
    }
   ],
   "source": [
    "13//4"
   ]
  },
  {
   "cell_type": "markdown",
   "id": "b6238708",
   "metadata": {},
   "source": [
    "# data type and comparisons"
   ]
  },
  {
   "cell_type": "markdown",
   "id": "b2de4954",
   "metadata": {},
   "source": [
    "Bolean"
   ]
  },
  {
   "cell_type": "code",
   "execution_count": 83,
   "id": "32483f8b",
   "metadata": {},
   "outputs": [
    {
     "name": "stdout",
     "output_type": "stream",
     "text": [
      "false\n",
      "true\n",
      "true\n",
      "false\n"
     ]
    }
   ],
   "source": [
    "i='true'\n",
    "h='true'\n",
    "o='false'\n",
    "u='false'\n",
    "print(i and o)\n",
    "print(o and h)\n",
    "print(i and h)\n",
    "print(o and u)"
   ]
  },
  {
   "cell_type": "code",
   "execution_count": 84,
   "id": "1455d90a",
   "metadata": {},
   "outputs": [
    {
     "data": {
      "text/plain": [
       "False"
      ]
     },
     "execution_count": 84,
     "metadata": {},
     "output_type": "execute_result"
    }
   ],
   "source": [
    "2>4"
   ]
  },
  {
   "cell_type": "code",
   "execution_count": 85,
   "id": "be72ed42",
   "metadata": {},
   "outputs": [
    {
     "data": {
      "text/plain": [
       "False"
      ]
     },
     "execution_count": 85,
     "metadata": {},
     "output_type": "execute_result"
    }
   ],
   "source": [
    "4>4"
   ]
  },
  {
   "cell_type": "code",
   "execution_count": 87,
   "id": "c1ece413",
   "metadata": {},
   "outputs": [
    {
     "data": {
      "text/plain": [
       "True"
      ]
     },
     "execution_count": 87,
     "metadata": {},
     "output_type": "execute_result"
    }
   ],
   "source": [
    "4==4"
   ]
  },
  {
   "cell_type": "code",
   "execution_count": 88,
   "id": "60a76d71",
   "metadata": {},
   "outputs": [],
   "source": [
    "s=2>4"
   ]
  },
  {
   "cell_type": "code",
   "execution_count": 89,
   "id": "959371c7",
   "metadata": {},
   "outputs": [
    {
     "name": "stdout",
     "output_type": "stream",
     "text": [
      "False\n"
     ]
    }
   ],
   "source": [
    "print(s)"
   ]
  },
  {
   "cell_type": "code",
   "execution_count": 90,
   "id": "905c13d0",
   "metadata": {},
   "outputs": [
    {
     "name": "stdout",
     "output_type": "stream",
     "text": [
      "<class 'bool'>\n"
     ]
    }
   ],
   "source": [
    "print(type(s))"
   ]
  },
  {
   "cell_type": "code",
   "execution_count": 91,
   "id": "bb7ec0dd",
   "metadata": {},
   "outputs": [
    {
     "name": "stdout",
     "output_type": "stream",
     "text": [
      "Variable     Type       Data/Info\n",
      "---------------------------------\n",
      "a            complex    (2+3j)\n",
      "b            int        4\n",
      "c            int        5\n",
      "d            float      7.5\n",
      "e            int        3\n",
      "f            int        67\n",
      "h            str        true\n",
      "i            str        true\n",
      "n            int        23\n",
      "o            str        false\n",
      "q            float      3.3333333333333335\n",
      "s            bool       False\n",
      "s1           str        hello\n",
      "s2           str        world\n",
      "sumOfaAndb   complex    (6+3j)\n",
      "t            float      26600198.8046875\n",
      "u            str        false\n",
      "w            str        hello how are you\n",
      "x            float      5.7\n"
     ]
    }
   ],
   "source": [
    "%whos"
   ]
  },
  {
   "cell_type": "code",
   "execution_count": 92,
   "id": "779cbe20",
   "metadata": {},
   "outputs": [],
   "source": [
    "x=4\n",
    "y=6\n",
    "z=9"
   ]
  },
  {
   "cell_type": "code",
   "execution_count": 93,
   "id": "45374652",
   "metadata": {},
   "outputs": [],
   "source": [
    "q=(x>y)and(y<x)"
   ]
  },
  {
   "cell_type": "code",
   "execution_count": 94,
   "id": "1bb01ab2",
   "metadata": {},
   "outputs": [
    {
     "name": "stdout",
     "output_type": "stream",
     "text": [
      "False\n"
     ]
    }
   ],
   "source": [
    "print(q)"
   ]
  },
  {
   "cell_type": "code",
   "execution_count": 95,
   "id": "6da31544",
   "metadata": {},
   "outputs": [],
   "source": [
    "s=(x/y>z)and(z/x<y)"
   ]
  },
  {
   "cell_type": "code",
   "execution_count": 96,
   "id": "3234f491",
   "metadata": {},
   "outputs": [
    {
     "name": "stdout",
     "output_type": "stream",
     "text": [
      "False\n"
     ]
    }
   ],
   "source": [
    "print(s)"
   ]
  },
  {
   "cell_type": "markdown",
   "id": "8db58f91",
   "metadata": {},
   "source": [
    "# Round off"
   ]
  },
  {
   "cell_type": "code",
   "execution_count": 97,
   "id": "b1b44e8c",
   "metadata": {},
   "outputs": [],
   "source": [
    "x=round(4.78650)"
   ]
  },
  {
   "cell_type": "code",
   "execution_count": 98,
   "id": "0469cafd",
   "metadata": {},
   "outputs": [
    {
     "name": "stdout",
     "output_type": "stream",
     "text": [
      "5\n"
     ]
    }
   ],
   "source": [
    "print(x)"
   ]
  },
  {
   "cell_type": "code",
   "execution_count": 99,
   "id": "9d4b7ab9",
   "metadata": {},
   "outputs": [],
   "source": [
    "f=round(x,3)"
   ]
  },
  {
   "cell_type": "code",
   "execution_count": 100,
   "id": "7b26e291",
   "metadata": {},
   "outputs": [
    {
     "name": "stdout",
     "output_type": "stream",
     "text": [
      "5\n"
     ]
    }
   ],
   "source": [
    "print(f)"
   ]
  },
  {
   "cell_type": "code",
   "execution_count": 101,
   "id": "71fdef40",
   "metadata": {},
   "outputs": [
    {
     "name": "stdout",
     "output_type": "stream",
     "text": [
      "6.787\n"
     ]
    }
   ],
   "source": [
    "g=round(6.7869505,4)\n",
    "print(g)"
   ]
  },
  {
   "cell_type": "markdown",
   "id": "737e3c8c",
   "metadata": {},
   "source": [
    "# divmod"
   ]
  },
  {
   "cell_type": "markdown",
   "id": "bb6c8f6a",
   "metadata": {},
   "source": [
    "Divmod gives the output of reminder and quotient"
   ]
  },
  {
   "cell_type": "code",
   "execution_count": 102,
   "id": "ea76725e",
   "metadata": {},
   "outputs": [],
   "source": [
    "g=divmod(32,6)"
   ]
  },
  {
   "cell_type": "code",
   "execution_count": 103,
   "id": "2e0b0ab4",
   "metadata": {},
   "outputs": [
    {
     "name": "stdout",
     "output_type": "stream",
     "text": [
      "(5, 2)\n"
     ]
    }
   ],
   "source": [
    "print(g)"
   ]
  },
  {
   "cell_type": "code",
   "execution_count": 104,
   "id": "41e8bdd5",
   "metadata": {},
   "outputs": [
    {
     "data": {
      "text/plain": [
       "tuple"
      ]
     },
     "execution_count": 104,
     "metadata": {},
     "output_type": "execute_result"
    }
   ],
   "source": [
    "type(g)"
   ]
  },
  {
   "cell_type": "code",
   "execution_count": 105,
   "id": "d7d82fbc",
   "metadata": {},
   "outputs": [
    {
     "data": {
      "text/plain": [
       "5"
      ]
     },
     "execution_count": 105,
     "metadata": {},
     "output_type": "execute_result"
    }
   ],
   "source": [
    "g[0]"
   ]
  },
  {
   "cell_type": "code",
   "execution_count": 106,
   "id": "b9a74cb7",
   "metadata": {},
   "outputs": [
    {
     "data": {
      "text/plain": [
       "2"
      ]
     },
     "execution_count": 106,
     "metadata": {},
     "output_type": "execute_result"
    }
   ],
   "source": [
    "g[1]"
   ]
  },
  {
   "cell_type": "markdown",
   "id": "9bac7aee",
   "metadata": {},
   "source": [
    "# isinstance"
   ]
  },
  {
   "cell_type": "markdown",
   "id": "783c6fd2",
   "metadata": {},
   "source": [
    "Describes the datatype of a variable"
   ]
  },
  {
   "cell_type": "code",
   "execution_count": 107,
   "id": "30e89be8",
   "metadata": {},
   "outputs": [
    {
     "data": {
      "text/plain": [
       "True"
      ]
     },
     "execution_count": 107,
     "metadata": {},
     "output_type": "execute_result"
    }
   ],
   "source": [
    "isinstance(32,int)"
   ]
  },
  {
   "cell_type": "code",
   "execution_count": 113,
   "id": "fa8d0fb8",
   "metadata": {},
   "outputs": [
    {
     "data": {
      "text/plain": [
       "False"
      ]
     },
     "execution_count": 113,
     "metadata": {},
     "output_type": "execute_result"
    }
   ],
   "source": [
    "isinstance(86,float)"
   ]
  },
  {
   "cell_type": "code",
   "execution_count": 112,
   "id": "53e53674",
   "metadata": {},
   "outputs": [
    {
     "data": {
      "text/plain": [
       "True"
      ]
     },
     "execution_count": 112,
     "metadata": {},
     "output_type": "execute_result"
    }
   ],
   "source": [
    "isinstance(3.56787,(int,float))"
   ]
  },
  {
   "cell_type": "code",
   "execution_count": null,
   "id": "d45ec532",
   "metadata": {},
   "outputs": [],
   "source": []
  }
 ],
 "metadata": {
  "kernelspec": {
   "display_name": "Python 3 (ipykernel)",
   "language": "python",
   "name": "python3"
  },
  "language_info": {
   "codemirror_mode": {
    "name": "ipython",
    "version": 3
   },
   "file_extension": ".py",
   "mimetype": "text/x-python",
   "name": "python",
   "nbconvert_exporter": "python",
   "pygments_lexer": "ipython3",
   "version": "3.8.8"
  }
 },
 "nbformat": 4,
 "nbformat_minor": 5
}
