{
 "cells": [
  {
   "cell_type": "markdown",
   "id": "9faa8dec",
   "metadata": {},
   "source": [
    "# If statement \n",
    "\n",
    "# Questions"
   ]
  },
  {
   "cell_type": "markdown",
   "id": "9b4cd6bb",
   "metadata": {},
   "source": [
    "1. A company decided to give bonus of 5% to employee if his/her year of service is more than 5 years.\n",
    "Ask user for their salary and year of service and print the net bonus amount.\n"
   ]
  },
  {
   "cell_type": "markdown",
   "id": "51d46ebf",
   "metadata": {},
   "source": [
    "2. A shop will give discount of 10% if the cost of purchased quantity is more than 1000.\n",
    "Ask user for quantity\n",
    "Suppose, one unit will cost 100.\n",
    "Judge and print total cost for user"
   ]
  },
  {
   "cell_type": "markdown",
   "id": "7f0541bc",
   "metadata": {},
   "source": [
    "3. Take two int values from user and print greatest among them.\n"
   ]
  },
  {
   "cell_type": "markdown",
   "id": "61cea744",
   "metadata": {},
   "source": [
    "4. A shop will give discount of 10% if the cost of purchased quantity is more than 1000.\n",
    "Ask user for quantity\n",
    "Suppose, one unit will cost 100.\n",
    "Judge and print total cost for user.\n"
   ]
  },
  {
   "cell_type": "markdown",
   "id": "f1df0d15",
   "metadata": {},
   "source": [
    "5. A school has following rules for grading system:\n",
    "a. Below 25 - F\n",
    "b. 25 to 45 - E\n",
    "c. 45 to 50 - D\n",
    "d. 50 to 60 - C\n",
    "e. 60 to 80 - B\n",
    "f. Above 80 - A\n",
    "Ask user to enter marks and print the corresponding grade.\n"
   ]
  },
  {
   "cell_type": "markdown",
   "id": "9f4cf493",
   "metadata": {},
   "source": [
    "6. A student will not be allowed to sit in exam if his/her attendence is less than 75%.\n",
    "Take following input from user\n",
    "Number of classes held\n",
    "Number of classes attended.\n",
    "And print\n",
    "percentage of class attended\n",
    "Is student is allowed to sit in exam or not\n",
    "\n",
    "a. Modify the above question to allow student to sit if he/she has medical cause. Ask user if he/she has medical cause or not ( 'Y' or 'N' ) and print accordingly.\n"
   ]
  },
  {
   "cell_type": "markdown",
   "id": "6a344c2b",
   "metadata": {},
   "source": [
    "# boolean (true or false)"
   ]
  },
  {
   "cell_type": "markdown",
   "id": "646ba05c",
   "metadata": {},
   "source": [
    "\"boolean\" takes two arguments that is to say: true or false"
   ]
  },
  {
   "cell_type": "code",
   "execution_count": 1,
   "id": "5c351fcd",
   "metadata": {},
   "outputs": [],
   "source": [
    "a=\"true\"\n",
    "b=\"false\"\n",
    "c=\"true\"\n",
    "d=\"false\""
   ]
  },
  {
   "cell_type": "code",
   "execution_count": 4,
   "id": "a85c26d4",
   "metadata": {},
   "outputs": [
    {
     "name": "stdout",
     "output_type": "stream",
     "text": [
      "true\n"
     ]
    }
   ],
   "source": [
    "print(a)"
   ]
  },
  {
   "cell_type": "code",
   "execution_count": 13,
   "id": "84c4fb86",
   "metadata": {},
   "outputs": [
    {
     "name": "stdout",
     "output_type": "stream",
     "text": [
      "false\n"
     ]
    }
   ],
   "source": [
    "print(b)"
   ]
  },
  {
   "cell_type": "code",
   "execution_count": 6,
   "id": "4fd67f33",
   "metadata": {},
   "outputs": [
    {
     "name": "stdout",
     "output_type": "stream",
     "text": [
      "true\n"
     ]
    }
   ],
   "source": [
    "print(c)"
   ]
  },
  {
   "cell_type": "code",
   "execution_count": 7,
   "id": "f579e44d",
   "metadata": {},
   "outputs": [
    {
     "name": "stdout",
     "output_type": "stream",
     "text": [
      "false\n"
     ]
    }
   ],
   "source": [
    "print(d)"
   ]
  },
  {
   "cell_type": "code",
   "execution_count": 8,
   "id": "09500509",
   "metadata": {},
   "outputs": [
    {
     "name": "stdout",
     "output_type": "stream",
     "text": [
      "false\n"
     ]
    }
   ],
   "source": [
    "print(a and b)"
   ]
  },
  {
   "cell_type": "code",
   "execution_count": 9,
   "id": "029af68d",
   "metadata": {},
   "outputs": [
    {
     "name": "stdout",
     "output_type": "stream",
     "text": [
      "true\n"
     ]
    }
   ],
   "source": [
    "print(a and c)"
   ]
  },
  {
   "cell_type": "code",
   "execution_count": 10,
   "id": "bfd1ab26",
   "metadata": {},
   "outputs": [
    {
     "name": "stdout",
     "output_type": "stream",
     "text": [
      "false\n"
     ]
    }
   ],
   "source": [
    "print(a and d)"
   ]
  },
  {
   "cell_type": "code",
   "execution_count": 11,
   "id": "bca5146f",
   "metadata": {},
   "outputs": [
    {
     "name": "stdout",
     "output_type": "stream",
     "text": [
      "false\n"
     ]
    }
   ],
   "source": [
    "print(b and d)"
   ]
  },
  {
   "cell_type": "code",
   "execution_count": 12,
   "id": "f8d600a5",
   "metadata": {},
   "outputs": [
    {
     "name": "stdout",
     "output_type": "stream",
     "text": [
      "true\n"
     ]
    }
   ],
   "source": [
    "print(b and c)"
   ]
  },
  {
   "cell_type": "code",
   "execution_count": 2,
   "id": "afebdbe9",
   "metadata": {},
   "outputs": [
    {
     "name": "stdout",
     "output_type": "stream",
     "text": [
      "false\n"
     ]
    }
   ],
   "source": [
    "print(b or c)"
   ]
  },
  {
   "cell_type": "markdown",
   "id": "10bb7bf2",
   "metadata": {},
   "source": [
    "# if statement"
   ]
  },
  {
   "cell_type": "code",
   "execution_count": 12,
   "id": "fb3600ab",
   "metadata": {},
   "outputs": [
    {
     "name": "stdout",
     "output_type": "stream",
     "text": [
      "False\n",
      "True\n"
     ]
    }
   ],
   "source": [
    "x=2\n",
    "y=5\n",
    "z=1\n",
    "\n",
    "print(x>y)\n",
    "print(y>x)\n"
   ]
  },
  {
   "cell_type": "code",
   "execution_count": 2,
   "id": "db6c5f3b",
   "metadata": {},
   "outputs": [
    {
     "name": "stdout",
     "output_type": "stream",
     "text": [
      "5\n"
     ]
    }
   ],
   "source": [
    "print(x  and y)"
   ]
  },
  {
   "cell_type": "code",
   "execution_count": 3,
   "id": "15864dac",
   "metadata": {},
   "outputs": [
    {
     "name": "stdout",
     "output_type": "stream",
     "text": [
      "2\n"
     ]
    }
   ],
   "source": [
    "print(x or y)"
   ]
  },
  {
   "cell_type": "code",
   "execution_count": null,
   "id": "6c8c2603",
   "metadata": {},
   "outputs": [],
   "source": []
  },
  {
   "cell_type": "code",
   "execution_count": 16,
   "id": "51e26a76",
   "metadata": {},
   "outputs": [
    {
     "name": "stdout",
     "output_type": "stream",
     "text": [
      "True\n"
     ]
    }
   ],
   "source": [
    "print(y>x)"
   ]
  },
  {
   "cell_type": "code",
   "execution_count": 21,
   "id": "bac28f5d",
   "metadata": {},
   "outputs": [
    {
     "name": "stdout",
     "output_type": "stream",
     "text": [
      "True\n"
     ]
    }
   ],
   "source": [
    "y==z\n",
    "print(y==z)"
   ]
  },
  {
   "cell_type": "code",
   "execution_count": 22,
   "id": "67df6b2b",
   "metadata": {},
   "outputs": [
    {
     "name": "stdout",
     "output_type": "stream",
     "text": [
      "True\n"
     ]
    }
   ],
   "source": [
    "print(y<=z)"
   ]
  },
  {
   "cell_type": "markdown",
   "id": "bf8f3a95",
   "metadata": {},
   "source": [
    "#  if else"
   ]
  },
  {
   "cell_type": "code",
   "execution_count": 8,
   "id": "da08ed99",
   "metadata": {},
   "outputs": [
    {
     "name": "stdout",
     "output_type": "stream",
     "text": [
      "its wrong\n"
     ]
    }
   ],
   "source": [
    "if(x<y):\n",
    "    print(\"yes its true\")\n",
    "else:\n",
    "    print(\"its wrong\")"
   ]
  },
  {
   "cell_type": "markdown",
   "id": "88c0cff9",
   "metadata": {},
   "source": [
    "# nested if"
   ]
  },
  {
   "cell_type": "code",
   "execution_count": 17,
   "id": "49b76ce6",
   "metadata": {},
   "outputs": [
    {
     "name": "stdout",
     "output_type": "stream",
     "text": [
      " didnt fulfill the outer if condition \n"
     ]
    }
   ],
   "source": [
    "if(x>y):\n",
    "    if(x>z): \n",
    "        print(\"yes x is greater than y\")\n",
    "    else:\n",
    "        print(\"it cant incorrect in two if statements\")\n",
    "    \n",
    "else:\n",
    "    print(\" didnt fulfill the outer if condition \")\n",
    "    "
   ]
  },
  {
   "cell_type": "raw",
   "id": "a878c50b",
   "metadata": {},
   "source": [
    "answer to question 1"
   ]
  },
  {
   "cell_type": "code",
   "execution_count": 3,
   "id": "9776119d",
   "metadata": {},
   "outputs": [
    {
     "name": "stdout",
     "output_type": "stream",
     "text": [
      "Enter salary\n",
      "5000\n",
      "Enter the years u have worked for\n",
      "2\n",
      "Are you sure years are greater than 5. NO u have entered years less than recommended ?\n"
     ]
    }
   ],
   "source": [
    "print(\"Enter salary\")\n",
    "salary=int(input())\n",
    "print(\"Enter the years u have worked for\")\n",
    "numberOfYears=int(input())\n",
    "if(numberOfYears>5):\n",
    "    bonus=0.05*salary*numberOfYears\n",
    "    totalAmount=salary*12+bonus\n",
    "    print(\"The bonus will be:\",bonus)\n",
    "    print(\"The total earnings plus bonus will be\",totalAmount)\n",
    "else:\n",
    "    print(\"Are you sure years are greater than 5. NO u have entered years less than recommended ?\")\n",
    "\n"
   ]
  }
 ],
 "metadata": {
  "kernelspec": {
   "display_name": "Python 3 (ipykernel)",
   "language": "python",
   "name": "python3"
  },
  "language_info": {
   "codemirror_mode": {
    "name": "ipython",
    "version": 3
   },
   "file_extension": ".py",
   "mimetype": "text/x-python",
   "name": "python",
   "nbconvert_exporter": "python",
   "pygments_lexer": "ipython3",
   "version": "3.8.8"
  }
 },
 "nbformat": 4,
 "nbformat_minor": 5
}
